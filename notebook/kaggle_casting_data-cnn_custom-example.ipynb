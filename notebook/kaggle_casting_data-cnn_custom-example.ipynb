{
 "cells": [
  {
   "cell_type": "code",
   "execution_count": 1,
   "metadata": {},
   "outputs": [
    {
     "name": "stderr",
     "output_type": "stream",
     "text": [
      "[2021-07-02 07:20:14,536][INFO][properties.py:22] Complete to apply the random seed, RANDOM_SEED : 777\n"
     ]
    }
   ],
   "source": [
    "import os\n",
    "import pathlib\n",
    "import sys\n",
    "\n",
    "default_dir_path = str(pathlib.Path(os.getcwd()).parent.absolute())\n",
    "\n",
    "sys.path.append(default_dir_path)\n",
    "\n",
    "from properties import ApplicationProperties"
   ]
  },
  {
   "cell_type": "code",
   "execution_count": 2,
   "metadata": {},
   "outputs": [],
   "source": [
    "import torch\n",
    "from torch import optim\n",
    "from torch.nn import functional as F\n",
    "\n",
    "from config.config import Config\n",
    "from dataset.factory import DatasetModule\n",
    "from domain.base import Hyperparameters\n",
    "from domain.metadata import Metadata\n",
    "from logger import logger\n",
    "from model.factory import ModelModule\n",
    "from trainer.factory import TrainerModule"
   ]
  },
  {
   "cell_type": "code",
   "execution_count": 3,
   "metadata": {
    "scrolled": true
   },
   "outputs": [],
   "source": [
    "mode = \"train\"\n",
    "config_file_name = \"kaggle_casting_data-cnn_custom-0.yaml\""
   ]
  },
  {
   "cell_type": "code",
   "execution_count": 4,
   "metadata": {
    "pycharm": {
     "name": "#%%\n"
    }
   },
   "outputs": [
    {
     "name": "stderr",
     "output_type": "stream",
     "text": [
      "[2021-07-02 07:20:15,047][INFO][<ipython-input-4-98e02a61a8a2>:3] Parameter information :\n",
      "\"dataset\":  \"hparmas\": \"key\": value\n",
      "\"metadata\": \"dataset_name\":   kaggle_casting_data\n",
      "\"env\":            script\n",
      "\"model_name\":     cnn_custom\n",
      "\"representation\": kaggle_casting_data-cnn_custom\n",
      "\"version\":        0\n",
      "\"model\":    \"hparams\": \"key\": value\n",
      "\"trainer\":  \"device\":           cuda:6\n",
      "\"is_saved\":         True\n",
      "\"training_hparams\": \"key\": value\n"
     ]
    }
   ],
   "source": [
    "# Get Parameters\n",
    "params = Config(file_name=config_file_name).params\n",
    "logger.info(f\"Parameter information :\\n{params}\")\n",
    "\n",
    "metadata_params = params.metadata\n",
    "dataset_params = params.dataset\n",
    "model_params = params.model\n",
    "trainer_params = params.trainer"
   ]
  },
  {
   "cell_type": "code",
   "execution_count": 5,
   "metadata": {
    "pycharm": {
     "name": "#%%\n"
    }
   },
   "outputs": [],
   "source": [
    "# Metadata Controller\n",
    "metadata = Metadata(**metadata_params)"
   ]
  },
  {
   "cell_type": "code",
   "execution_count": 6,
   "metadata": {},
   "outputs": [
    {
     "name": "stderr",
     "output_type": "stream",
     "text": [
      "[2021-07-02 07:20:15,390][INFO][factory.py:81] Data selected : 'kaggle_casting_data'\n"
     ]
    }
   ],
   "source": [
    "# Dataset Controller\n",
    "dataset_module = DatasetModule(metadata=metadata, **dataset_params)"
   ]
  },
  {
   "cell_type": "code",
   "execution_count": 7,
   "metadata": {},
   "outputs": [
    {
     "name": "stderr",
     "output_type": "stream",
     "text": [
      "[2021-07-02 07:20:15,615][INFO][factory.py:32] Model selected :\n",
      "'CNNCustom(\n",
      "  (conv_1): Sequential(\n",
      "    (0): Conv2d(1, 8, kernel_size=(3, 3), stride=(1, 1))\n",
      "    (1): LeakyReLU(negative_slope=0.01, inplace=True)\n",
      "    (2): MaxPool2d(kernel_size=2, stride=2, padding=0, dilation=1, ceil_mode=False)\n",
      "  )\n",
      "  (conv_2): Sequential(\n",
      "    (0): Conv2d(8, 16, kernel_size=(3, 3), stride=(1, 1))\n",
      "    (1): LeakyReLU(negative_slope=0.01, inplace=True)\n",
      "    (2): MaxPool2d(kernel_size=2, stride=2, padding=0, dilation=1, ceil_mode=False)\n",
      "  )\n",
      "  (conv_3): Sequential(\n",
      "    (0): Conv2d(16, 16, kernel_size=(3, 3), stride=(1, 1))\n",
      "    (1): LeakyReLU(negative_slope=0.01, inplace=True)\n",
      "    (2): MaxPool2d(kernel_size=2, stride=2, padding=0, dilation=1, ceil_mode=False)\n",
      "  )\n",
      "  (fc): Sequential(\n",
      "    (0): Linear(in_features=19600, out_features=224, bias=True)\n",
      "    (1): LeakyReLU(negative_slope=0.01, inplace=True)\n",
      "    (2): Linear(in_features=224, out_features=1, bias=True)\n",
      "  )\n",
      ")'\n"
     ]
    }
   ],
   "source": [
    "# Model Controller\n",
    "model_module = ModelModule(metadata=metadata, **model_params)"
   ]
  },
  {
   "cell_type": "code",
   "execution_count": 8,
   "metadata": {},
   "outputs": [
    {
     "name": "stderr",
     "output_type": "stream",
     "text": [
      "[2021-07-02 07:20:20,668][INFO][base.py:51] Model set to 'cuda:6'\n",
      "[2021-07-02 07:20:20,670][INFO][factory.py:50] Trainer selected : 'kaggle_casting_data_cnn_custom_trainer'\n"
     ]
    }
   ],
   "source": [
    "# Trainer Controller\n",
    "trainer_module = TrainerModule(\n",
    "    metadata=metadata,\n",
    "    model_module=model_module,\n",
    "    dataset_module=dataset_module,\n",
    "    **trainer_params\n",
    ")"
   ]
  },
  {
   "cell_type": "code",
   "execution_count": 9,
   "metadata": {},
   "outputs": [],
   "source": [
    "trainer_module.trainer.hparams = Hyperparameters(\n",
    "    optimizer_cls=optim.Adam,\n",
    "    criterion=F.binary_cross_entropy,\n",
    "    n_epoch=5,\n",
    "    lr=1e-3,\n",
    "    hypothesis_threshold=0.5,\n",
    "    weight_decay=0,\n",
    "    device=torch.device(\"cuda\" if torch.cuda.is_available() else \"cpu\")\n",
    ")"
   ]
  },
  {
   "cell_type": "markdown",
   "metadata": {},
   "source": [
    "## Training"
   ]
  },
  {
   "cell_type": "code",
   "execution_count": 10,
   "metadata": {},
   "outputs": [
    {
     "name": "stderr",
     "output_type": "stream",
     "text": [
      "[2021-07-02 07:20:20,702][INFO][factory.py:78] Start to train\n",
      "  0%|          | 0/5 [00:00<?, ?it/s]/opt/conda/lib/python3.7/site-packages/torch/nn/functional.py:1639: UserWarning: nn.functional.sigmoid is deprecated. Use torch.sigmoid instead.\n",
      "  warnings.warn(\"nn.functional.sigmoid is deprecated. Use torch.sigmoid instead.\")\n",
      "/opt/conda/lib/python3.7/site-packages/torch/nn/functional.py:1639: UserWarning: nn.functional.sigmoid is deprecated. Use torch.sigmoid instead.\n",
      "  warnings.warn(\"nn.functional.sigmoid is deprecated. Use torch.sigmoid instead.\")\n",
      " 20%|██        | 1/5 [00:17<01:09, 17.27s/it]"
     ]
    },
    {
     "name": "stdout",
     "output_type": "stream",
     "text": [
      "[Epoch - 0]\n",
      "Train - Accuracy : 0.4331373, Precision : 0.4329647, Recall : 0.994087, F1 : 0.6032081\n",
      "Val - Accuracy : 0.3664336, Precision : 0.3664336, Recall : 1.0, F1 : 0.5363357\n",
      "Best Accuracy : 0.36643356643356645 (epoch : 0)\n",
      "Best F1 : 0.5363357215967247 (epoch : 0)\n"
     ]
    },
    {
     "name": "stderr",
     "output_type": "stream",
     "text": [
      "/opt/conda/lib/python3.7/site-packages/torch/nn/functional.py:1639: UserWarning: nn.functional.sigmoid is deprecated. Use torch.sigmoid instead.\n",
      "  warnings.warn(\"nn.functional.sigmoid is deprecated. Use torch.sigmoid instead.\")\n",
      "/opt/conda/lib/python3.7/site-packages/torch/nn/functional.py:1639: UserWarning: nn.functional.sigmoid is deprecated. Use torch.sigmoid instead.\n",
      "  warnings.warn(\"nn.functional.sigmoid is deprecated. Use torch.sigmoid instead.\")\n",
      " 40%|████      | 2/5 [00:34<00:51, 17.28s/it]"
     ]
    },
    {
     "name": "stdout",
     "output_type": "stream",
     "text": [
      "[Epoch - 1]\n",
      "Train - Accuracy : 0.4334389, Precision : 0.4334389, Recall : 1.0, F1 : 0.6047539\n",
      "Val - Accuracy : 0.3664336, Precision : 0.3664336, Recall : 1.0, F1 : 0.5363357\n",
      "Best Accuracy : 0.36643356643356645 (epoch : 0)\n",
      "Best F1 : 0.5363357215967247 (epoch : 0)\n"
     ]
    },
    {
     "name": "stderr",
     "output_type": "stream",
     "text": [
      "/opt/conda/lib/python3.7/site-packages/torch/nn/functional.py:1639: UserWarning: nn.functional.sigmoid is deprecated. Use torch.sigmoid instead.\n",
      "  warnings.warn(\"nn.functional.sigmoid is deprecated. Use torch.sigmoid instead.\")\n",
      "/opt/conda/lib/python3.7/site-packages/torch/nn/functional.py:1639: UserWarning: nn.functional.sigmoid is deprecated. Use torch.sigmoid instead.\n",
      "  warnings.warn(\"nn.functional.sigmoid is deprecated. Use torch.sigmoid instead.\")\n",
      " 60%|██████    | 3/5 [00:51<00:34, 17.32s/it]"
     ]
    },
    {
     "name": "stdout",
     "output_type": "stream",
     "text": [
      "[Epoch - 2]\n",
      "Train - Accuracy : 0.4334389, Precision : 0.4334389, Recall : 1.0, F1 : 0.6047539\n",
      "Val - Accuracy : 0.3664336, Precision : 0.3664336, Recall : 1.0, F1 : 0.5363357\n",
      "Best Accuracy : 0.36643356643356645 (epoch : 0)\n",
      "Best F1 : 0.5363357215967247 (epoch : 0)\n"
     ]
    },
    {
     "name": "stderr",
     "output_type": "stream",
     "text": [
      "/opt/conda/lib/python3.7/site-packages/torch/nn/functional.py:1639: UserWarning: nn.functional.sigmoid is deprecated. Use torch.sigmoid instead.\n",
      "  warnings.warn(\"nn.functional.sigmoid is deprecated. Use torch.sigmoid instead.\")\n",
      "/opt/conda/lib/python3.7/site-packages/torch/nn/functional.py:1639: UserWarning: nn.functional.sigmoid is deprecated. Use torch.sigmoid instead.\n",
      "  warnings.warn(\"nn.functional.sigmoid is deprecated. Use torch.sigmoid instead.\")\n",
      " 80%|████████  | 4/5 [01:09<00:17, 17.27s/it]"
     ]
    },
    {
     "name": "stdout",
     "output_type": "stream",
     "text": [
      "[Epoch - 3]\n",
      "Train - Accuracy : 0.4334389, Precision : 0.4334389, Recall : 1.0, F1 : 0.6047539\n",
      "Val - Accuracy : 0.3664336, Precision : 0.3664336, Recall : 1.0, F1 : 0.5363357\n",
      "Best Accuracy : 0.36643356643356645 (epoch : 0)\n",
      "Best F1 : 0.5363357215967247 (epoch : 0)\n"
     ]
    },
    {
     "name": "stderr",
     "output_type": "stream",
     "text": [
      "/opt/conda/lib/python3.7/site-packages/torch/nn/functional.py:1639: UserWarning: nn.functional.sigmoid is deprecated. Use torch.sigmoid instead.\n",
      "  warnings.warn(\"nn.functional.sigmoid is deprecated. Use torch.sigmoid instead.\")\n",
      "/opt/conda/lib/python3.7/site-packages/torch/nn/functional.py:1639: UserWarning: nn.functional.sigmoid is deprecated. Use torch.sigmoid instead.\n",
      "  warnings.warn(\"nn.functional.sigmoid is deprecated. Use torch.sigmoid instead.\")\n",
      "100%|██████████| 5/5 [01:26<00:00, 17.32s/it]\n",
      "[2021-07-02 07:21:47,405][INFO][base.py:72] Succeed to load best model, device: 'cuda:6'\n",
      "[2021-07-02 07:21:47,407][INFO][factory.py:86] Completed to train\n"
     ]
    },
    {
     "name": "stdout",
     "output_type": "stream",
     "text": [
      "[Epoch - 4]\n",
      "Train - Accuracy : 0.4334389, Precision : 0.4334389, Recall : 1.0, F1 : 0.6047539\n",
      "Val - Accuracy : 0.3664336, Precision : 0.3664336, Recall : 1.0, F1 : 0.5363357\n",
      "Best Accuracy : 0.36643356643356645 (epoch : 0)\n",
      "Best F1 : 0.5363357215967247 (epoch : 0)\n"
     ]
    }
   ],
   "source": [
    "result_dict = trainer_module.do(mode=\"train\")"
   ]
  },
  {
   "cell_type": "markdown",
   "metadata": {},
   "source": [
    "## Predict"
   ]
  },
  {
   "cell_type": "code",
   "execution_count": 11,
   "metadata": {},
   "outputs": [
    {
     "name": "stderr",
     "output_type": "stream",
     "text": [
      "[2021-07-02 07:22:06,676][INFO][base.py:72] Succeed to load best model, device: 'cuda:6'\n"
     ]
    }
   ],
   "source": [
    "trainer_module.trainer.load_best_model()"
   ]
  },
  {
   "cell_type": "code",
   "execution_count": 12,
   "metadata": {},
   "outputs": [
    {
     "name": "stderr",
     "output_type": "stream",
     "text": [
      "[2021-07-02 07:22:09,815][INFO][factory.py:78] Start to inference\n",
      "/opt/conda/lib/python3.7/site-packages/torch/nn/functional.py:1639: UserWarning: nn.functional.sigmoid is deprecated. Use torch.sigmoid instead.\n",
      "  warnings.warn(\"nn.functional.sigmoid is deprecated. Use torch.sigmoid instead.\")\n",
      "[2021-07-02 07:22:11,194][INFO][factory.py:86] Completed to inference\n"
     ]
    }
   ],
   "source": [
    "result_dict = trainer_module.do(mode=\"inference\")"
   ]
  },
  {
   "cell_type": "code",
   "execution_count": 13,
   "metadata": {},
   "outputs": [
    {
     "data": {
      "text/plain": [
       "{'loss': 61.54891304347826,\n",
       " 'accuracy': 0.36643356643356645,\n",
       " 'precision': 0.36643356643356645,\n",
       " 'recall': 1.0,\n",
       " 'f1': 0.5363357215967247}"
      ]
     },
     "execution_count": 13,
     "metadata": {},
     "output_type": "execute_result"
    }
   ],
   "source": [
    "result_dict"
   ]
  },
  {
   "cell_type": "code",
   "execution_count": null,
   "metadata": {},
   "outputs": [],
   "source": []
  }
 ],
 "metadata": {
  "kernelspec": {
   "display_name": "Python 3",
   "language": "python",
   "name": "python3"
  },
  "language_info": {
   "codemirror_mode": {
    "name": "ipython",
    "version": 3
   },
   "file_extension": ".py",
   "mimetype": "text/x-python",
   "name": "python",
   "nbconvert_exporter": "python",
   "pygments_lexer": "ipython3",
   "version": "3.7.4"
  }
 },
 "nbformat": 4,
 "nbformat_minor": 4
}
