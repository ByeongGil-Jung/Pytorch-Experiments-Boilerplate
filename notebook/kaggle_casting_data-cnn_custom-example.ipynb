{
 "cells": [
  {
   "cell_type": "code",
   "execution_count": 1,
   "metadata": {},
   "outputs": [
    {
     "name": "stderr",
     "output_type": "stream",
     "text": [
      "[2020-11-12 08:00:22,358][INFO][properties.py:22] Complete to apply the random seed, RANDOM_SEED : 777\n"
     ]
    }
   ],
   "source": [
    "import os\n",
    "import pathlib\n",
    "import sys\n",
    "\n",
    "default_dir_path = str(pathlib.Path(os.getcwd()).parent.absolute())\n",
    "\n",
    "sys.path.append(default_dir_path)\n",
    "\n",
    "from properties import ApplicationProperties"
   ]
  },
  {
   "cell_type": "code",
   "execution_count": 2,
   "metadata": {},
   "outputs": [],
   "source": [
    "from torch import optim\n",
    "from torch.nn import functional as F\n",
    "import torch\n",
    "\n",
    "from dataset.factory import DatasetFactory\n",
    "from domain.hyperparameters import Hyperparameters\n",
    "from logger import logger\n",
    "from model.factory import ModelFactory\n",
    "from trainer.factory import TrainerFactory"
   ]
  },
  {
   "cell_type": "code",
   "execution_count": 3,
   "metadata": {
    "scrolled": true
   },
   "outputs": [],
   "source": [
    "model_name = \"cnn_custom\"\n",
    "data_name = \"kaggle_casting_data\""
   ]
  },
  {
   "cell_type": "code",
   "execution_count": 4,
   "metadata": {},
   "outputs": [
    {
     "name": "stderr",
     "output_type": "stream",
     "text": [
      "[2020-11-12 08:00:22,818][INFO][factory.py:72] Data selected : kaggle_casting_data\n"
     ]
    }
   ],
   "source": [
    "# Dataset Controller\n",
    "dataset_factory = DatasetFactory.create(data_name=data_name)\n",
    "train_dataset, val_dataset, test_dataset \\\n",
    "    = dataset_factory.train_dataset, dataset_factory.val_dataset, dataset_factory.test_dataset\n",
    "train_dataloader, val_dataloader, test_dataloader \\\n",
    "    = dataset_factory.train_dataloader, dataset_factory.val_dataloader, dataset_factory.test_dataloader"
   ]
  },
  {
   "cell_type": "code",
   "execution_count": 5,
   "metadata": {},
   "outputs": [
    {
     "name": "stderr",
     "output_type": "stream",
     "text": [
      "[2020-11-12 08:00:22,882][INFO][factory.py:24] Model selected : cnn_custom\n"
     ]
    }
   ],
   "source": [
    "# Model Controller\n",
    "model_factory = ModelFactory.create(model_name=model_name)\n",
    "model = model_factory.model"
   ]
  },
  {
   "cell_type": "code",
   "execution_count": 6,
   "metadata": {},
   "outputs": [
    {
     "name": "stderr",
     "output_type": "stream",
     "text": [
      "[2020-11-12 08:00:25,965][INFO][base.py:39] Model set to cuda\n"
     ]
    }
   ],
   "source": [
    "# Trainer Controller\n",
    "trainer_factory = TrainerFactory.create(\n",
    "    model_name=model_name,\n",
    "    model=model,\n",
    "    train_dataloader=train_dataloader,\n",
    "    val_dataloader=val_dataloader,\n",
    "    test_dataloader=test_dataloader,\n",
    "    tqdm_env=\"jupyter\"\n",
    ")"
   ]
  },
  {
   "cell_type": "code",
   "execution_count": 7,
   "metadata": {},
   "outputs": [],
   "source": [
    "trainer_factory.trainer.hyperparameters = Hyperparameters(\n",
    "    optimizer_cls=optim.Adam,\n",
    "    criterion=F.binary_cross_entropy,\n",
    "    n_epoch=5,\n",
    "    lr=1e-3,\n",
    "    hypothesis_threshold=0.5,\n",
    "    weight_decay=0,\n",
    "    device=torch.device(\"cuda\" if torch.cuda.is_available() else \"cpu\")\n",
    ")"
   ]
  },
  {
   "cell_type": "markdown",
   "metadata": {},
   "source": [
    "## Training"
   ]
  },
  {
   "cell_type": "code",
   "execution_count": 8,
   "metadata": {},
   "outputs": [
    {
     "name": "stderr",
     "output_type": "stream",
     "text": [
      "[2020-11-12 07:52:22,553][INFO][factory.py:61] Start to train\n"
     ]
    },
    {
     "data": {
      "application/vnd.jupyter.widget-view+json": {
       "model_id": "f6d2108e87034b29b75b67ee5e0b7d48",
       "version_major": 2,
       "version_minor": 0
      },
      "text/plain": [
       "HBox(children=(IntProgress(value=0, max=5), HTML(value='')))"
      ]
     },
     "metadata": {},
     "output_type": "display_data"
    },
    {
     "name": "stderr",
     "output_type": "stream",
     "text": [
      "/opt/conda/lib/python3.7/site-packages/torch/nn/functional.py:1351: UserWarning: nn.functional.sigmoid is deprecated. Use torch.sigmoid instead.\n",
      "  warnings.warn(\"nn.functional.sigmoid is deprecated. Use torch.sigmoid instead.\")\n",
      "/workspace/sy/byeonggil/MDPI_2020_remote/trainer/cnn_custom_trainer.py:55: UserWarning: Using a target size (torch.Size([32])) that is different to the input size (torch.Size([32, 1])) is deprecated. Please ensure they have the same size.\n",
      "  loss = criterion(hypothesis, label_batch)\n",
      "/workspace/sy/byeonggil/MDPI_2020_remote/trainer/cnn_custom_trainer.py:55: UserWarning: Using a target size (torch.Size([9])) that is different to the input size (torch.Size([9, 1])) is deprecated. Please ensure they have the same size.\n",
      "  loss = criterion(hypothesis, label_batch)\n",
      "/workspace/sy/byeonggil/MDPI_2020_remote/trainer/cnn_custom_trainer.py:150: UserWarning: Using a target size (torch.Size([32])) that is different to the input size (torch.Size([32, 1])) is deprecated. Please ensure they have the same size.\n",
      "  loss = criterion(hypothesis, label_batch)\n",
      "/workspace/sy/byeonggil/MDPI_2020_remote/trainer/cnn_custom_trainer.py:150: UserWarning: Using a target size (torch.Size([11])) that is different to the input size (torch.Size([11, 1])) is deprecated. Please ensure they have the same size.\n",
      "  loss = criterion(hypothesis, label_batch)\n"
     ]
    },
    {
     "name": "stdout",
     "output_type": "stream",
     "text": [
      "[Epoch - 0]\n",
      "Train - Accuracy : 0.4328358, Precision : 0.4328132, Recall : 0.9937391, F1 : 0.602997\n",
      "Val - Accuracy : 0.3664336, Precision : 0.3664336, Recall : 1.0, F1 : 0.5363357\n",
      "Best Accuracy : 0.36643356643356645 (epoch : 0)\n",
      "Best F1 : 0.5363357215967247 (epoch : 0)\n",
      "[Epoch - 1]\n",
      "Train - Accuracy : 0.4334389, Precision : 0.4334389, Recall : 1.0, F1 : 0.6047539\n",
      "Val - Accuracy : 0.3664336, Precision : 0.3664336, Recall : 1.0, F1 : 0.5363357\n",
      "Best Accuracy : 0.36643356643356645 (epoch : 0)\n",
      "Best F1 : 0.5363357215967247 (epoch : 0)\n",
      "[Epoch - 2]\n",
      "Train - Accuracy : 0.4334389, Precision : 0.4334389, Recall : 1.0, F1 : 0.6047539\n",
      "Val - Accuracy : 0.3664336, Precision : 0.3664336, Recall : 1.0, F1 : 0.5363357\n",
      "Best Accuracy : 0.36643356643356645 (epoch : 0)\n",
      "Best F1 : 0.5363357215967247 (epoch : 0)\n",
      "[Epoch - 3]\n",
      "Train - Accuracy : 0.4334389, Precision : 0.4334389, Recall : 1.0, F1 : 0.6047539\n",
      "Val - Accuracy : 0.3664336, Precision : 0.3664336, Recall : 1.0, F1 : 0.5363357\n",
      "Best Accuracy : 0.36643356643356645 (epoch : 0)\n",
      "Best F1 : 0.5363357215967247 (epoch : 0)\n"
     ]
    },
    {
     "name": "stderr",
     "output_type": "stream",
     "text": [
      "[2020-11-12 07:53:52,335][INFO][base.py:59] Succeed to load best model, device: cpu\n",
      "[2020-11-12 07:53:52,336][INFO][factory.py:69] Completed to train\n"
     ]
    },
    {
     "name": "stdout",
     "output_type": "stream",
     "text": [
      "[Epoch - 4]\n",
      "Train - Accuracy : 0.4334389, Precision : 0.4334389, Recall : 1.0, F1 : 0.6047539\n",
      "Val - Accuracy : 0.3664336, Precision : 0.3664336, Recall : 1.0, F1 : 0.5363357\n",
      "Best Accuracy : 0.36643356643356645 (epoch : 0)\n",
      "Best F1 : 0.5363357215967247 (epoch : 0)\n",
      "\n"
     ]
    }
   ],
   "source": [
    "result_dict = trainer_factory.do(mode=\"train\")"
   ]
  },
  {
   "cell_type": "markdown",
   "metadata": {},
   "source": [
    "## Predict"
   ]
  },
  {
   "cell_type": "code",
   "execution_count": 8,
   "metadata": {},
   "outputs": [
    {
     "name": "stderr",
     "output_type": "stream",
     "text": [
      "[2020-11-12 08:00:26,014][INFO][base.py:60] Succeed to load best model, device: cuda\n"
     ]
    }
   ],
   "source": [
    "trainer_factory.trainer.load_best_model()"
   ]
  },
  {
   "cell_type": "code",
   "execution_count": 9,
   "metadata": {},
   "outputs": [
    {
     "name": "stderr",
     "output_type": "stream",
     "text": [
      "[2020-11-12 08:00:26,062][INFO][factory.py:61] Start to predict\n",
      "/opt/conda/lib/python3.7/site-packages/torch/nn/functional.py:1351: UserWarning: nn.functional.sigmoid is deprecated. Use torch.sigmoid instead.\n",
      "  warnings.warn(\"nn.functional.sigmoid is deprecated. Use torch.sigmoid instead.\")\n",
      "/workspace/sy/byeonggil/MDPI_2020_remote/trainer/cnn_custom_trainer.py:150: UserWarning: Using a target size (torch.Size([32])) that is different to the input size (torch.Size([32, 1])) is deprecated. Please ensure they have the same size.\n",
      "  loss = criterion(hypothesis, label_batch)\n",
      "/workspace/sy/byeonggil/MDPI_2020_remote/trainer/cnn_custom_trainer.py:150: UserWarning: Using a target size (torch.Size([11])) that is different to the input size (torch.Size([11, 1])) is deprecated. Please ensure they have the same size.\n",
      "  loss = criterion(hypothesis, label_batch)\n",
      "[2020-11-12 08:00:27,657][INFO][factory.py:69] Completed to predict\n"
     ]
    }
   ],
   "source": [
    "result_dict = trainer_factory.do(mode=\"predict\")"
   ]
  },
  {
   "cell_type": "code",
   "execution_count": 10,
   "metadata": {},
   "outputs": [
    {
     "data": {
      "text/plain": [
       "{'loss': 17.006593393242877,\n",
       " 'accuracy': 0.36643356643356645,\n",
       " 'precision': 0.36643356643356645,\n",
       " 'recall': 1.0,\n",
       " 'f1': 0.5363357215967247}"
      ]
     },
     "execution_count": 10,
     "metadata": {},
     "output_type": "execute_result"
    }
   ],
   "source": [
    "result_dict"
   ]
  },
  {
   "cell_type": "code",
   "execution_count": null,
   "metadata": {},
   "outputs": [],
   "source": []
  }
 ],
 "metadata": {
  "kernelspec": {
   "display_name": "Python 3",
   "language": "python",
   "name": "python3"
  },
  "language_info": {
   "codemirror_mode": {
    "name": "ipython",
    "version": 3
   },
   "file_extension": ".py",
   "mimetype": "text/x-python",
   "name": "python",
   "nbconvert_exporter": "python",
   "pygments_lexer": "ipython3",
   "version": "3.7.4"
  }
 },
 "nbformat": 4,
 "nbformat_minor": 4
}
